{
  "nbformat": 4,
  "nbformat_minor": 0,
  "metadata": {
    "colab": {
      "provenance": []
    },
    "kernelspec": {
      "name": "python3",
      "display_name": "Python 3"
    },
    "language_info": {
      "name": "python"
    }
  },
  "cells": [
    {
      "cell_type": "code",
      "execution_count": null,
      "metadata": {
        "id": "tyZqfHHe9-mZ"
      },
      "outputs": [],
      "source": [
        "import numpy as np\n",
        "import  scipy\n"
      ]
    },
    {
      "cell_type": "code",
      "source": [
        "\n",
        "I = np.array([0.9, 0.1, 0.8], ndmin=2).T\n",
        "t = np.array([0.2, 0.09, 0.5], ndmin=2).T\n",
        "W_i_h = np.array([[0.9, 0.3, 0.4], [0.2, 0.8, 0.2], [0.1, 0.5, 0.6]])\n",
        "W_h_o = np.array([[0.3, 0.7, 0.5], [0.6, 0.5, 0.2], [0.8, 0.1, 0.9]])\n",
        "\n",
        "for i in range(10000):\n",
        "  O_h = W_i_h.dot(I)\n",
        "  O_h = scipy.special.expit(O_h)\n",
        "  O = W_h_o.dot(O_h)\n",
        "  O = scipy.special.expit(O)\n",
        "\n",
        "\n",
        "  E_o = t - O\n",
        "  E_h = np.dot(W_h_o.T, E_o)\n",
        "  W_h_o += 0.1 * E_o * O * (1 - O) * O_h.T\n",
        "  W_i_h += 0.1 * E_h * O_h * (1 - O_h) * I.T\n",
        "\n",
        "print(O)\n"
      ],
      "metadata": {
        "colab": {
          "base_uri": "https://localhost:8080/"
        },
        "id": "y9bXimSDArY9",
        "outputId": "2cb9c0dc-9890-4a2b-8743-d5195ef17566"
      },
      "execution_count": null,
      "outputs": [
        {
          "output_type": "stream",
          "name": "stdout",
          "text": [
            "[[0.2 ]\n",
            " [0.09]\n",
            " [0.5 ]]\n"
          ]
        }
      ]
    },
    {
      "cell_type": "code",
      "source": [
        "class NeuralNetwork:\n",
        "  def __init__(self, input_nodes, hidden_nodes, output_nodes, learnig_rate):\n",
        "    self.input_nodes = input_nodes\n",
        "    self.hidden_nodes = hidden_nodes\n",
        "    self.output_nodes = output_nodes\n",
        "    self.learnig_rate = learnig_rate\n",
        "\n",
        "    np.random.seed(42)\n",
        "\n",
        "    self.W_i_h = np.random.normal(0.01, 0.99, (hidden_nodes, input_nodes))\n",
        "    self.W_h_o = np.random.normal(0.01, 0.99, (output_nodes, hidden_nodes))\n",
        "\n",
        "  def forward(self, inputs):\n",
        "    inputs = np.array(inputs, ndmin=2).T\n",
        "    O_h = self.W_i_h.dot(I)\n",
        "    O_h = scipy.special.expit(O_h)\n",
        "    O = self.W_h_o.dot(O_h)\n",
        "    O = scipy.special.expit(O)\n",
        "    return O\n",
        "\n"
      ],
      "metadata": {
        "id": "nSlgwTM2fmL_"
      },
      "execution_count": null,
      "outputs": []
    },
    {
      "cell_type": "code",
      "source": [
        "net = NeuralNetwork(3, 3, 3, 0.1)\n",
        "result = net.forward([0.9, 0.1, 0.8])\n",
        "print(result)"
      ],
      "metadata": {
        "colab": {
          "base_uri": "https://localhost:8080/"
        },
        "id": "P1Z5w6NZlZPt",
        "outputId": "023af6ee-1cfb-4c1e-93c2-4bc1ec50d166"
      },
      "execution_count": null,
      "outputs": [
        {
          "output_type": "stream",
          "name": "stdout",
          "text": [
            "[0.4286307  0.07316002 0.28708966]\n"
          ]
        }
      ]
    }
  ]
}