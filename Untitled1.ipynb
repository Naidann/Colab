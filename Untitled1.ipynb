{
  "nbformat": 4,
  "nbformat_minor": 0,
  "metadata": {
    "colab": {
      "provenance": []
    },
    "kernelspec": {
      "name": "python3",
      "display_name": "Python 3"
    },
    "language_info": {
      "name": "python"
    }
  },
  "cells": [
    {
      "cell_type": "code",
      "execution_count": 1,
      "metadata": {
        "id": "BvRtLts6cQEE",
        "colab": {
          "base_uri": "https://localhost:8080/"
        },
        "outputId": "f22b9fbb-fb20-452e-ca4b-2754bb324771"
      },
      "outputs": [
        {
          "output_type": "stream",
          "name": "stdout",
          "text": [
            "[0.740774899182154, 0.6456563062257954]\n"
          ]
        }
      ],
      "source": [
        "import math\n",
        "\n",
        "def mult2(A, B):\n",
        "  result = []\n",
        "  A_rows = len(A)\n",
        "  A_cols = len(A[0])\n",
        "  B_rows = len(B)\n",
        "  if A_cols != B_rows:\n",
        "    print('колличество столбцов первой матрицы не равно колличеству строк второй матрицы!')\n",
        "    return\n",
        "\n",
        "  result = [0 for col in range(A_rows)]\n",
        "  for s in range(A_rows):\n",
        "      for k in range(A_cols):\n",
        "        result[s] += A[s][k] * B[k]\n",
        "  return result\n",
        "\n",
        "def sigma(x):\n",
        "  return 1 / (1 + math.exp(-x))\n",
        "\n",
        "def f_activate(A):\n",
        "  res = []\n",
        "  for x in A:\n",
        "    res.append(sigma(x))\n",
        "  return res\n",
        "\n",
        "A = [[0.9, 0.3], [0.2, 0.8]]\n",
        "B = [1.0, 0.5]\n",
        "\n",
        "X = mult2(A, B)\n",
        "X = f_activate(X)\n",
        "print(X)"
      ]
    }
  ]
}